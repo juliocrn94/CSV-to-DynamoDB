{
 "cells": [
  {
   "cell_type": "code",
   "execution_count": 25,
   "metadata": {},
   "outputs": [],
   "source": [
    "#Import Libraries\n",
    "import boto3\n",
    "import pandas as pd\n",
    "import json\n",
    "\n",
    "\n",
    "#Access Credentials\n",
    "a_data = pd.read_csv('accessKeys.csv')\n",
    "a_key = a_data['Access key ID'][0]\n",
    "a_S_key = a_data['Secret access key'][0]\n",
    "region='us-east-1'\n"
   ]
  },
  {
   "cell_type": "code",
   "execution_count": 31,
   "metadata": {},
   "outputs": [
    {
     "data": {
      "text/plain": [
       "[{'CountryId': 1, 'Name': 'Italy'}, {'CountryId': 2, 'Name': 'Australia'}]"
      ]
     },
     "execution_count": 31,
     "metadata": {},
     "output_type": "execute_result"
    }
   ],
   "source": [
    "#Create JSON -> Dics and List of Dics\n",
    "\n",
    "AdvgCountries_json = json.loads(\n",
    "pd.read_csv('./Course_Alexa_Skill_Builder/DynamoDB_Lab/AdvgCountries.csv').to_json(orient='records')\n",
    ")\n",
    "AdvgFunFacts_json = json.loads(\n",
    "pd.read_csv('./Course_Alexa_Skill_Builder/DynamoDB_Lab/AdvgFunFacts.csv').to_json(orient='records')\n",
    ")\n",
    "AdvgStories_json = json.loads(\n",
    "pd.read_csv('./Course_Alexa_Skill_Builder/DynamoDB_Lab/AdvgStories.csv').to_json(orient='records')\n",
    ")\n",
    "AdvgStoryDetails_json = json.loads(\n",
    "pd.read_csv('./Course_Alexa_Skill_Builder/DynamoDB_Lab/AdvgStoryDetails.csv').to_json(orient='records')\n",
    ")\n",
    "\n",
    "lst_Dics = [{'item': AdvgCountries_json, 'table':'AdvgCountries'},\n",
    "            {'item': AdvgFunFacts_json, 'table':'AdvgFunFacts'},\n",
    "            {'item': AdvgStories_json, 'table':'AdvgStories'},\n",
    "            {'item': AdvgStoryDetails_json, 'table':'AdvgStoryDetails'}]\n",
    "\n",
    "AdvgCountries_json"
   ]
  },
  {
   "cell_type": "code",
   "execution_count": 32,
   "metadata": {},
   "outputs": [],
   "source": [
    "#Connect to DynamoDb Function\n",
    "dynamodb = boto3.resource('dynamodb', aws_access_key_id=a_key, aws_secret_access_key=a_S_key, region_name=region)\n",
    "\n",
    "def insertDynamoItem (tablename,item_lst):\n",
    "    dynamoTable = dynamodb.Table(tablename)\n",
    "    \n",
    "    for record in item_lst:\n",
    "        dynamoTable.put_item(Item=record)\n",
    "    \n",
    "    print('Success')"
   ]
  },
  {
   "cell_type": "code",
   "execution_count": 36,
   "metadata": {},
   "outputs": [
    {
     "name": "stdout",
     "output_type": "stream",
     "text": [
      "Success\n",
      "Success\n",
      "Success\n",
      "Success\n"
     ]
    }
   ],
   "source": [
    "#Upload Content to DynamoDB\n",
    "for element in lst_Dics:\n",
    "    insertDynamoItem(element['table'],element['item'])\n"
   ]
  }
 ],
 "metadata": {
  "kernelspec": {
   "display_name": "Python 3",
   "language": "python",
   "name": "python3"
  },
  "language_info": {
   "codemirror_mode": {
    "name": "ipython",
    "version": 3
   },
   "file_extension": ".py",
   "mimetype": "text/x-python",
   "name": "python",
   "nbconvert_exporter": "python",
   "pygments_lexer": "ipython3",
   "version": "3.7.3"
  }
 },
 "nbformat": 4,
 "nbformat_minor": 2
}
